{
 "cells": [
  {
   "cell_type": "markdown",
   "id": "28297a46-efb0-45f7-9d95-2bec15d7ce43",
   "metadata": {},
   "source": [
    "### Proyecto Teoría de cola"
   ]
  },
  {
   "cell_type": "markdown",
   "id": "22c840c4-00b6-4f72-87c0-99f69446ef8e",
   "metadata": {},
   "source": [
    "##### Introducción \n",
    "\n",
    "En este trabajo se desarrolla una simulación computacional de un sistema de colas M/M/1/K utilizando Python y la biblioteca NumPy. Este tipo de modelo permite analizar el comportamiento de un sistema de atención con una sola línea de servicio y capacidad limitada. Se simulan llegadas y tiempos de servicio usando distribuciones exponenciales, permitiendo estudiar fenómenos reales como bloqueos por saturación, tiempos de espera y utilización del servidor. El objetivo principal es comprender cómo afectan diferentes tasas de servicio al rendimiento del sistema, y cómo se pueden tomar decisiones más informadas para mejorar su eficiencia."
   ]
  },
  {
   "cell_type": "code",
   "execution_count": 1,
   "id": "cd0616b5-db1b-4855-a429-6161a5c2fdbe",
   "metadata": {},
   "outputs": [],
   "source": [
    "import numpy as np\n"
   ]
  },
  {
   "cell_type": "markdown",
   "id": "bd4211a7-2391-4144-b743-d00f63b5b5d5",
   "metadata": {},
   "source": [
    "NumPy se usa para generar tiempos aleatorios, convertirlos en momentos de llegada, y calcular promedios del sistema, todo de forma rápida y eficiente."
   ]
  },
  {
   "cell_type": "markdown",
   "id": "f88ac618-0d29-4fd4-904f-02fcf51d23f9",
   "metadata": {},
   "source": [
    "### PASO 1: FUNCIÓN PRINCIPAL: simular_cola_mm1k\r\n"
   ]
  },
  {
   "cell_type": "code",
   "execution_count": 2,
   "id": "6776d28a-c226-4d1b-aa39-280ebbcc7aa4",
   "metadata": {},
   "outputs": [],
   "source": [
    "def simular_cola_mm1k(tasa_llegada, tasa_servicio, capacidad_max, num_eventos):\n",
    " tiempos_llegada = np.cumsum(np.random.exponential(1 / tasa_llegada,num_eventos))\n",
    " duraciones_servicio = np.random.exponential(1 / tasa_servicio, num_eventos)"
   ]
  },
  {
   "cell_type": "markdown",
   "id": "03575739-1dc9-4a2f-b98f-19768c789556",
   "metadata": {},
   "source": [
    "La función simular_cola_mm1k modela una cola con capacidad limitada donde clientes llegan y son atendidos según tasas promedio. Recibe como parámetros la tasa de llegada (), la tasa de servicio (), la capacidad máxima del sistema y la cantidad de clientes a simular. Sirve para analizar cómo se comporta el sistema bajo distintas condiciones."
   ]
  },
  {
   "cell_type": "markdown",
   "id": "0ccfb09e-a97b-494b-b44a-8cbd59d7d4aa",
   "metadata": {},
   "source": [
    " ### PASO 2: Generación de datos de entrada de llegada y de servicio \n"
   ]
  },
  {
   "cell_type": "markdown",
   "id": "531c2589-a25e-4fab-ad09-51c4724b03bc",
   "metadata": {},
   "source": [
    " Para simular la llegada\r\n",
    " y atención de clientes, se generan dos listas: una con los tiempos de llegada acumulados usando\r\n",
    " distribución exponencial con media\r\n",
    " 1/𝜆\r\n",
    " , y otra con las duraciones del servicio para cada cliente, también con distribución exponencial y\r\n",
    " media\r\n",
    " 1/𝜇\r\n",
    " . Así se establece cuándo llega cada cliente y cuánto tiempo tomará atenderlo"
   ]
  },
  {
   "cell_type": "markdown",
   "id": "8b4f76fd-c78b-47bc-a635-bcdf86128a3f",
   "metadata": {},
   "source": [
    "### PASO 3: Inicialización de variables"
   ]
  },
  {
   "cell_type": "code",
   "execution_count": 3,
   "id": "70a1c565-f945-4e78-b378-7d6a15bcbefb",
   "metadata": {},
   "outputs": [],
   "source": [
    " tiempo_actual = 0\n",
    " tiempo_fin_servicio = 0\n",
    " cola_actual = 0"
   ]
  },
  {
   "cell_type": "markdown",
   "id": "2bc15522-e519-4553-bed4-51cd572d7d5b",
   "metadata": {},
   "source": [
    "En la etapa de inicialización, se definen variables clave para el seguimiento del estado del sistema durante la simulación. tiempo_actual representa el tiempo global, aunque no se utiliza directa\r\n",
    "mente; mientras que tiempo_fin_servicio indica el momento en que finalizará el servicio del clien \r\n",
    " en curso. Por su parte, cola_actual permite llevar un control de cuántos clientes están esperando\r\n",
    " en la cola en un momento dado."
   ]
  },
  {
   "cell_type": "code",
   "execution_count": 4,
   "id": "405bcb2e-61bd-466b-8948-f625afeec0b8",
   "metadata": {},
   "outputs": [],
   "source": [
    "bloqueos = 0\n",
    "cola_total = []\n",
    "tiempos_espera = []"
   ]
  },
  {
   "cell_type": "markdown",
   "id": "d2f23bd1-49a4-4114-88b9-11f2d86f2ce0",
   "metadata": {},
   "source": [
    " Luego, se preparan tres variables para recolectar datos de la simulación: bloqueos, que registra\r\n",
    " la cantidad de veces que un cliente fue rechazado por alcanzar el límite de capacidad; cola_total,\r\n",
    " que almacena el tamaño de la cola en cada evento para evaluar su evolución; y tiempos_espera,\r\n",
    " donde se guarda cuánto tiempo esperó cada cliente que logró ser atendido. Estas variables son\r\n",
    " fundamentales para el análisis del rendimiento del sistema."
   ]
  },
  {
   "cell_type": "markdown",
   "id": "f3da4557-9dd3-4653-afb6-05c58b839225",
   "metadata": {},
   "source": [
    "#### BUCLE PRINCIPAL DE LA SIMULACIÓN (PROCESAMIENTO DE CADA  CLIENT)E"
   ]
  },
  {
   "cell_type": "markdown",
   "id": "4392bece-79d7-42e4-a1bf-aa9a56e4e973",
   "metadata": {},
   "source": [
    "En cada iteración del ciclo, se obtiene el tiempo de llegada y la duración del servicio\r\n",
    " de un cliente desde sus respectivas listas. Estos datos permiten simular su paso por el sistema."
   ]
  },
  {
   "cell_type": "code",
   "execution_count": null,
   "id": "4ef4890b-b364-4c53-a8f5-29f101e7e214",
   "metadata": {},
   "outputs": [],
   "source": [
    " for i in range(num_eventos):\n",
    "        llegada = tiempos_llegada[i]\n",
    "        servicio = duraciones_servicio[i]\n"
   ]
  },
  {
   "cell_type": "markdown",
   "id": "4e3f47f0-da38-4baf-9c44-72fa5e87f0f7",
   "metadata": {},
   "source": [
    "Cuando el cliente llega y el servidor está libre, se le atiende de inmediato sin esperar. Se actualiza\r\n",
    " el tiempo de inicio y fin del servicio, se vacía la cola, y se registra un tiempo de espera igual a cero."
   ]
  },
  {
   "cell_type": "code",
   "execution_count": null,
   "id": "4357b7d8-d55a-4bcb-94d6-d771c0fdbdb9",
   "metadata": {},
   "outputs": [],
   "source": [
    "import numpy as np\n",
    "\n",
    "# Parámetros de simulación\n",
    "tasa_llegada = 180\n",
    "tasa_servicio = 200\n",
    "capacidad_max = 5\n",
    "num_eventos = 100\n",
    "\n",
    "# Generar datos\n",
    "tiempos_llegada = np.cumsum(np.random.exponential(1 / tasa_llegada, num_eventos))\n",
    "duraciones_servicio = np.random.exponential(1 / tasa_servicio, num_eventos)\n",
    "\n",
    "# Variables de estado\n",
    "tiempo_fin_servicio = 0\n",
    "cola_actual = 0\n",
    "tiempos_espera = []\n",
    "\n",
    "# Simulación\n",
    "for i in range(num_eventos):\n",
    "    llegada = tiempos_llegada[i]\n",
    "    servicio = duraciones_servicio[i]\n",
    "\n",
    "    if llegada >= tiempo_fin_servicio:\n",
    "        # Servidor libre\n",
    "        tiempo_inicio = llegada\n",
    "        tiempo_fin_servicio = tiempo_inicio + servicio\n",
    "        cola_actual = 0\n",
    "        tiempos_espera.append(0)\n",
    "\n",
    "    elif cola_actual < capacidad_max:\n",
    "        # Hay espacio en la cola\n",
    "        tiempo_inicio = tiempo_fin_servicio\n",
    "        tiempo_fin_servicio += servicio\n",
    "        cola_actual += 1\n",
    "        tiempos_espera.append(tiempo_inicio - llegada)\n",
    "\n",
    "    else:\n",
    "        # Cola llena (bloqueo)\n",
    "        print(f\"Cliente {i+1} fue bloqueado\")\n",
    "\n",
    "print(\"Simulación completada.\")\n"
   ]
  },
  {
   "cell_type": "markdown",
   "id": "8fa6ce74-2419-4f1b-8514-86b7c7749a9f",
   "metadata": {},
   "source": [
    " Este fragmento representa la situación en que el sistema ha alcanzado su capacidad máxima y no puede recibir más clientes. Cuando eso ocurre, el cliente que llega no es atendido ni espera en la cola:\n",
    " simplemente se registra como un bloqueo (bloqueos += 1), indicando que fue rechazado. También\n",
    " se guarda el estado actual de la cola (cola_total.append(cola_actual)) para fines de análisis o\n",
    " estadísticas, y luego el sistema pasa al siguiente evento sin modificar el estado de servicio ni la cola.\n",
    " Es decir, el cliente no entra al sistema y solo se documenta el intento fallido de ingreso.\n",
    "\n",
    " Se registra la cantidad de clientes en la cola después de cada evento, siempre que no haya sido un\r\n",
    " bloqueo, para analizar el comportamiento del sistema."
   ]
  },
  {
   "cell_type": "code",
   "execution_count": null,
   "id": "1689402c-7691-42c2-91e7-d5d6da43cff6",
   "metadata": {},
   "outputs": [],
   "source": [
    "cola_total.append(cola_actual)\n"
   ]
  },
  {
   "cell_type": "markdown",
   "id": "020274fc-be1b-498d-b127-2063626f3ea2",
   "metadata": {},
   "source": [
    "Este bloque de código calcula las métricas clave para evaluar el desempeño del sistema de atención.\n",
    " Primero, determina cuántos clientes fueron efectivamente procesados restando los bloqueos del total\n",
    " de eventos. Luego \n",
    " ]calcula la probabilidad de bloqueo, que indica la proporción de clientes que no\n",
    " pudieron ingresar al sistema. Con esa probabilidad, se estima la utilización del servidor, es decir,\n",
    " cuánto tiempo está realmente ocupado atendiendo. También se obtiene el promedio de longitud de\n",
    " la cola, analizando la cantidad de clientes esperando a lo largo del tiempo, y el promedio de espera,\n",
    " que mide cuánto tiempo en promedio esperó cada cliente antes de ser atendido. Estas métricas son\n",
    " fundamentales para entender si el sistema está operando de forma eficiente o si necesita ajustes."
   ]
  },
  {
   "cell_type": "code",
   "execution_count": null,
   "id": "a1d4d77b-b558-42a2-9c35-1b83a929e6ca",
   "metadata": {},
   "outputs": [],
   "source": [
    "procesados = num_eventos - bloqueos\n",
    "prob_bloqueo = bloqueos / num_eventos\n",
    "utilizacion = tasa_llegada * (1 - prob_bloqueo) / tasa_servicio\n",
    "promedio_cola = np.mean(cola_total)\n",
    "promedio_espera = np.mean(tiempos_espera) if tiempos_espera else 0 \n",
    "\n"
   ]
  },
  {
   "cell_type": "markdown",
   "id": "b50a9751-1b2a-4197-9d65-0ab150f57d55",
   "metadata": {},
   "source": [
    "Se prueban dos velocidades de atención para comparar cómo cambia el rendimiento del sistema."
   ]
  },
  {
   "cell_type": "code",
   "execution_count": null,
   "id": "7825c6d4-2fe8-4f04-a717-319f07b51847",
   "metadata": {},
   "outputs": [],
   "source": [
    "# Función para ejecutar múltiples simulaciones\n",
    "def ejecutar_simulaciones():\n",
    "    lambda_llegadas = 180\n",
    "    mu1 = 200\n",
    "    mu2 = 400\n",
    "    capacidad = 5\n",
    "    total_eventos = 100_000\n",
    "\n",
    "    for mu in [mu1, mu2]:\n",
    "        print(f\"\\n📊 Simulando para tasa de servicio μ = {mu}\")\n",
    "        p_b, uso, prom_cola, prom_esp = simular_cola_mm1k(lambda_llegadas, mu, capacidad, total_eventos)\n",
    "\n",
    "        print(f\" Probabilidad de bloqueo: {p_b:.4f}\")\n",
    "        print(f\" Utilización promedio: {uso:.4f}\")\n",
    "        print(f\" Longitud promedio de cola: {prom_cola:.4f}\")\n",
    "        print(f\" Tiempo promedio de espera: {prom_esp:.4f} segundos\")\n",
    "\n",
    "# Ejecutar la simulación\n",
    "ejecutar_simulaciones()"
   ]
  },
  {
   "cell_type": "code",
   "execution_count": null,
   "id": "4dc2b2e5-be94-4bb5-904b-3e3de9c1b629",
   "metadata": {},
   "outputs": [],
   "source": [
    "🔄 Simulando para tasa de servicio μ = 200\n",
    "🔹 Probabilidad de bloqueo:     0.2275\n",
    "🔹 Utilización promedio:        0.6953\n",
    "🔹 Longitud promedio de cola:   2.3473\n",
    "🔹 Tiempo promedio de espera:   0.0057 s\n",
    "\n",
    "🔄 Simulando para tasa de servicio μ = 400\n",
    "🔹 Probabilidad de bloqueo:     0.0413\n",
    "🔹 Utilización promedio:        0.4314\n",
    "🔹 Longitud promedio de cola:   1.0077\n",
    "🔹 Tiempo promedio de espera:   0.0015 s"
   ]
  },
  {
   "cell_type": "markdown",
   "id": "e36c5f51-5021-4787-8ce2-1bd8b27c3fc2",
   "metadata": {},
   "source": [
    "#### Conclusión (puntos clave)\n",
    "\n",
    "🔹Se implementó una simulación eficiente para el modelo M/M/1/K, útil para estudiar colas con capacidad limitada.\n",
    "\n",
    "🔹La tasa de servicio impacta directamente en la probabilidad de bloqueo: mayor velocidad de atención reduce los rechazos.\n",
    "\n",
    "🔹El tiempo promedio de espera y la longitud de la cola disminuyen cuando se incrementa la tasa de servicio, mejorando la experiencia del cliente.\n",
    "\n",
    "🔹La utilización del servidor también varía: con tasas de servicio más altas, el sistema se mantiene menos ocupado, lo que puede implicar sobredimensionamiento.\n",
    "\n",
    "🔹Estas métricas permiten evaluar el rendimiento del sistema y tomar decisiones de diseño más acertadas para mejorar la atención y evitar saturaciones."
   ]
  },
  {
   "cell_type": "code",
   "execution_count": null,
   "id": "48f8a086-ad8b-4066-8d48-206d6879895f",
   "metadata": {},
   "outputs": [],
   "source": []
  }
 ],
 "metadata": {
  "kernelspec": {
   "display_name": "anaconda-ai-2024.04-py310",
   "language": "python",
   "name": "conda-env-anaconda-ai-2024.04-py310-py"
  },
  "language_info": {
   "codemirror_mode": {
    "name": "ipython",
    "version": 3
   },
   "file_extension": ".py",
   "mimetype": "text/x-python",
   "name": "python",
   "nbconvert_exporter": "python",
   "pygments_lexer": "ipython3",
   "version": "3.10.13"
  }
 },
 "nbformat": 4,
 "nbformat_minor": 5
}
